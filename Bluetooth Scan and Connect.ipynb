{
 "cells": [
  {
   "cell_type": "code",
   "execution_count": null,
   "metadata": {},
   "outputs": [],
   "source": [
    "import asyncio\n",
    "from bleak import discover\n",
    "import nest_asyncio\n",
    "\n",
    "nest_asyncio.apply()\n",
    "devices = []\n",
    "async def scan():\n",
    "    dev = await discover()\n",
    "    for i in range(0,len(dev)):\n",
    "        print(\"[\"+str(i)+\"]\"+str(dev[i]))\n",
    "        devices.append(dev[i])\n",
    "\n",
    "from bleak import BleakClient\n",
    "\n",
    "async def connect(address, loop):\n",
    "    async with BleakClient(address, loop=loop) as client:\n",
    "        services = await client.get_services()\n",
    "        for ser in services:\n",
    "            print(ser.uuid)\n",
    "\n",
    "loop = asyncio.get_event_loop()\n",
    "loop.run_until_complete(scan())\n",
    "index = input('please select device from 0 to '+str(len(devices))+\":\")\n",
    "index = int(index)\n",
    "loop.run_until_complete(connect(devices[index].address, loop))"
   ]
  },
  {
   "cell_type": "code",
   "execution_count": null,
   "metadata": {},
   "outputs": [],
   "source": []
  }
 ],
 "metadata": {
  "kernelspec": {
   "display_name": "Python 3",
   "language": "python",
   "name": "python3"
  },
  "language_info": {
   "codemirror_mode": {
    "name": "ipython",
    "version": 3
   },
   "file_extension": ".py",
   "mimetype": "text/x-python",
   "name": "python",
   "nbconvert_exporter": "python",
   "pygments_lexer": "ipython3",
   "version": "3.8.3"
  }
 },
 "nbformat": 4,
 "nbformat_minor": 4
}
