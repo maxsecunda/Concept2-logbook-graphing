{
 "cells": [
  {
   "cell_type": "code",
   "execution_count": 1,
   "metadata": {},
   "outputs": [],
   "source": [
    "# Excel Concept 2 Logbook"
   ]
  },
  {
   "cell_type": "code",
   "execution_count": 2,
   "metadata": {},
   "outputs": [
    {
     "name": "stdout",
     "output_type": "stream",
     "text": [
      "           name        date time of day   workout name     time meteres  \\\n",
      "1    PM5 Memory  08/11/2020       16:37  1x30:00/2:00r  30:00.0    6639   \n",
      "2    PM5 Memory  08/11/2020       16:37  1x30:00/2:00r      NaN     NaN   \n",
      "3    PM5 Memory  08/11/2020       16:37  1x30:00/2:00r      NaN     NaN   \n",
      "4           NaN         NaN         NaN            NaN      NaN     NaN   \n",
      "5    PM5 Memory  07/11/2020       18:13          5000m  25:50.9    5000   \n",
      "..          ...         ...         ...            ...      ...     ...   \n",
      "518         NaN         NaN         NaN            NaN      NaN     NaN   \n",
      "519  PM5 Memory  18/08/2020       17:56  2x25:00/2:30r  50:00.0   12750   \n",
      "520  PM5 Memory  18/08/2020       17:56  2x25:00/2:30r      NaN     NaN   \n",
      "521  PM5 Memory  18/08/2020       17:56  2x25:00/2:30r      NaN     NaN   \n",
      "522  PM5 Memory  18/08/2020       17:56  2x25:00/2:30r      NaN     NaN   \n",
      "\n",
      "    avg spm avg heart rate   time 1 meters 1  spm heart rate     500m  \\\n",
      "1        17            127      NaN      NaN  NaN        NaN  02:15.5   \n",
      "2       NaN            NaN  30:00.0     6638   17        117  02:15.5   \n",
      "3       NaN            NaN      NaN      NaN  NaN        NaN      NaN   \n",
      "4       NaN            NaN      NaN      NaN  NaN        NaN      NaN   \n",
      "5        24              0      NaN      NaN  NaN        NaN  02:35.0   \n",
      "..      ...            ...      ...      ...  ...        ...      ...   \n",
      "518     NaN            NaN      NaN      NaN  NaN        NaN      NaN   \n",
      "519      20              0      NaN      NaN  NaN        NaN  01:57.6   \n",
      "520     NaN            NaN  25:00.0     6361   20          0  01:57.9   \n",
      "521     NaN            NaN  25:00.0     6389   20          0  01:57.3   \n",
      "522     NaN            NaN      NaN      NaN  NaN        NaN      NaN   \n",
      "\n",
      "    cal hour watts time 2 meters 2 heart rate 1  \n",
      "1        783   140    NaN      NaN          NaN  \n",
      "2        783   140    NaN      NaN          NaN  \n",
      "3        NaN   NaN    NaN     2107          NaN  \n",
      "4        NaN   NaN    NaN      NaN          NaN  \n",
      "5        622    94    NaN      NaN          NaN  \n",
      "..       ...   ...    ...      ...          ...  \n",
      "518      NaN   NaN    NaN      NaN          NaN  \n",
      "519     1039   215    NaN      NaN          NaN  \n",
      "520     1034   214    NaN      NaN          NaN  \n",
      "521     1044   216    NaN      NaN          NaN  \n",
      "522      NaN   NaN    NaN       37          NaN  \n",
      "\n",
      "[522 rows x 18 columns]\n"
     ]
    }
   ],
   "source": [
    "import pandas as pd\n",
    "import datetime\n",
    "import matplotlib.pyplot as plt\n",
    "cols = [\"name\",\"date\", \"time of day\", \"workout name\", \"time\", \"meteres\", \"avg spm\", \"avg heart rate\", \"time 1\", \"meters 1\", \"spm\", \n",
    "    \"heart rate\", \"500m\", \"cal hour\", \"watts\", \"time 2\", \"meters 2\", \"heart rate 1\"]\n",
    "df = pd.read_csv(r\"C:\\Users\\maxse\\OneDrive\\Documents\\Python Data\\LogBook.csv\", names=cols)\n",
    "print(df[1:])\n",
    "data = df[1:]\n"
   ]
  },
  {
   "cell_type": "code",
   "execution_count": 3,
   "metadata": {},
   "outputs": [
    {
     "name": "stdout",
     "output_type": "stream",
     "text": [
      "          name        date time of day workout name time meteres avg spm  \\\n",
      "6   PM5 Memory  07/11/2020       18:13        5000m  NaN     NaN     NaN   \n",
      "7   PM5 Memory  07/11/2020       18:13        5000m  NaN     NaN     NaN   \n",
      "8   PM5 Memory  07/11/2020       18:13        5000m  NaN     NaN     NaN   \n",
      "9   PM5 Memory  07/11/2020       18:13        5000m  NaN     NaN     NaN   \n",
      "10  PM5 Memory  07/11/2020       18:13        5000m  NaN     NaN     NaN   \n",
      "\n",
      "   avg heart rate   time 1 meters 1 spm heart rate     500m cal hour watts  \\\n",
      "6             NaN  05:15.5     1000  24          0  02:37.7      606    89   \n",
      "7             NaN  05:07.3     2000  24          0  02:33.6      632    96   \n",
      "8             NaN  05:22.6     3000  24          0  02:41.3      587    83   \n",
      "9             NaN  05:07.1     4000  26          0  02:33.5      632    97   \n",
      "10            NaN  04:58.4     5000  27          0  02:29.2      662   105   \n",
      "\n",
      "   time 2 meters 2 heart rate 1  \n",
      "6     NaN      NaN          NaN  \n",
      "7     NaN      NaN          NaN  \n",
      "8     NaN      NaN          NaN  \n",
      "9     NaN      NaN          NaN  \n",
      "10    NaN      NaN          NaN  \n"
     ]
    }
   ],
   "source": [
    "workout_2 = data[5:10]\n",
    "print(workout_2)"
   ]
  },
  {
   "cell_type": "code",
   "execution_count": 4,
   "metadata": {},
   "outputs": [
    {
     "name": "stdout",
     "output_type": "stream",
     "text": [
      "          name        date time of day workout name time meteres avg spm  \\\n",
      "6   PM5 Memory  07/11/2020       18:13        5000m  NaN     NaN     NaN   \n",
      "7   PM5 Memory  07/11/2020       18:13        5000m  NaN     NaN     NaN   \n",
      "8   PM5 Memory  07/11/2020       18:13        5000m  NaN     NaN     NaN   \n",
      "9   PM5 Memory  07/11/2020       18:13        5000m  NaN     NaN     NaN   \n",
      "10  PM5 Memory  07/11/2020       18:13        5000m  NaN     NaN     NaN   \n",
      "\n",
      "   avg heart rate   time 1 meters 1 spm heart rate     500m cal hour watts  \\\n",
      "6             NaN  05:15.5     1000  24          0  02:37.7      606    89   \n",
      "7             NaN  05:07.3     2000  24          0  02:33.6      632    96   \n",
      "8             NaN  05:22.6     3000  24          0  02:41.3      587    83   \n",
      "9             NaN  05:07.1     4000  26          0  02:33.5      632    97   \n",
      "10            NaN  04:58.4     5000  27          0  02:29.2      662   105   \n",
      "\n",
      "            time 2 meters 2 heart rate 1          time 3     time 4  \n",
      "6  00:05:15.500000      NaN          NaN 00:05:15.500000   5.258333  \n",
      "7  00:05:07.300000      NaN          NaN 00:10:22.800000  10.380000  \n",
      "8  00:05:22.600000      NaN          NaN 00:15:45.400000  15.756667  \n",
      "9  00:05:07.100000      NaN          NaN 00:20:52.500000  20.875000  \n",
      "10 00:04:58.400000      NaN          NaN 00:25:50.900000  25.848333  \n"
     ]
    },
    {
     "name": "stderr",
     "output_type": "stream",
     "text": [
      "<ipython-input-4-0efa8c91f243>:1: SettingWithCopyWarning: \n",
      "A value is trying to be set on a copy of a slice from a DataFrame.\n",
      "Try using .loc[row_indexer,col_indexer] = value instead\n",
      "\n",
      "See the caveats in the documentation: https://pandas.pydata.org/pandas-docs/stable/user_guide/indexing.html#returning-a-view-versus-a-copy\n",
      "  workout_2[\"time 2\"] = \"00:\" + workout_2[\"time 1\"] + \"0\"\n",
      "<ipython-input-4-0efa8c91f243>:2: SettingWithCopyWarning: \n",
      "A value is trying to be set on a copy of a slice from a DataFrame.\n",
      "Try using .loc[row_indexer,col_indexer] = value instead\n",
      "\n",
      "See the caveats in the documentation: https://pandas.pydata.org/pandas-docs/stable/user_guide/indexing.html#returning-a-view-versus-a-copy\n",
      "  workout_2[\"time 2\"] = pd.to_timedelta(workout_2[\"time 2\"], unit=\"minutes\")\n",
      "<ipython-input-4-0efa8c91f243>:4: SettingWithCopyWarning: \n",
      "A value is trying to be set on a copy of a slice from a DataFrame.\n",
      "Try using .loc[row_indexer,col_indexer] = value instead\n",
      "\n",
      "See the caveats in the documentation: https://pandas.pydata.org/pandas-docs/stable/user_guide/indexing.html#returning-a-view-versus-a-copy\n",
      "  workout_2[\"time 3\"] = workout_2[\"time 2\"].cumsum()\n",
      "<ipython-input-4-0efa8c91f243>:5: SettingWithCopyWarning: \n",
      "A value is trying to be set on a copy of a slice from a DataFrame.\n",
      "Try using .loc[row_indexer,col_indexer] = value instead\n",
      "\n",
      "See the caveats in the documentation: https://pandas.pydata.org/pandas-docs/stable/user_guide/indexing.html#returning-a-view-versus-a-copy\n",
      "  workout_2[\"time 4\"] = workout_2[\"time 3\"]/pd.Timedelta(minutes=1)\n",
      "<ipython-input-4-0efa8c91f243>:7: SettingWithCopyWarning: \n",
      "A value is trying to be set on a copy of a slice from a DataFrame.\n",
      "Try using .loc[row_indexer,col_indexer] = value instead\n",
      "\n",
      "See the caveats in the documentation: https://pandas.pydata.org/pandas-docs/stable/user_guide/indexing.html#returning-a-view-versus-a-copy\n",
      "  workout_2[\"500m\"] = \"00:\" + workout_2[\"500m\"] + \"0\"\n",
      "<ipython-input-4-0efa8c91f243>:8: SettingWithCopyWarning: \n",
      "A value is trying to be set on a copy of a slice from a DataFrame.\n",
      "Try using .loc[row_indexer,col_indexer] = value instead\n",
      "\n",
      "See the caveats in the documentation: https://pandas.pydata.org/pandas-docs/stable/user_guide/indexing.html#returning-a-view-versus-a-copy\n",
      "  workout_2[\"500m\"] = pd.to_timedelta(workout_2[\"500m\"], unit=\"minutes\")\n",
      "<ipython-input-4-0efa8c91f243>:10: SettingWithCopyWarning: \n",
      "A value is trying to be set on a copy of a slice from a DataFrame.\n",
      "Try using .loc[row_indexer,col_indexer] = value instead\n",
      "\n",
      "See the caveats in the documentation: https://pandas.pydata.org/pandas-docs/stable/user_guide/indexing.html#returning-a-view-versus-a-copy\n",
      "  workout_2[\"500m\"] = workout_2[\"500m\"]/pd.Timedelta(minutes=1)\n"
     ]
    }
   ],
   "source": [
    "workout_2[\"time 2\"] = \"00:\" + workout_2[\"time 1\"] + \"0\"\n",
    "workout_2[\"time 2\"] = pd.to_timedelta(workout_2[\"time 2\"], unit=\"minutes\")\n",
    "workout_2[\"time 2\"].astype(\"timedelta64[h]\")\n",
    "workout_2[\"time 3\"] = workout_2[\"time 2\"].cumsum()\n",
    "workout_2[\"time 4\"] = workout_2[\"time 3\"]/pd.Timedelta(minutes=1)\n",
    "print(workout_2)\n",
    "workout_2[\"500m\"] = \"00:\" + workout_2[\"500m\"] + \"0\"\n",
    "workout_2[\"500m\"] = pd.to_timedelta(workout_2[\"500m\"], unit=\"minutes\")\n",
    "workout_2[\"500m\"].astype(\"timedelta64[h]\")\n",
    "workout_2[\"500m\"] = workout_2[\"500m\"]/pd.Timedelta(minutes=1)"
   ]
  },
  {
   "cell_type": "code",
   "execution_count": 5,
   "metadata": {},
   "outputs": [
    {
     "data": {
      "image/png": "[encoded data removed]",
      "text/plain": [
       "<Figure size 432x288 with 1 Axes>"
      ]
     },
     "metadata": {
      "needs_background": "light"
     },
     "output_type": "display_data"
    }
   ],
   "source": [
    "y = workout_2[\"time 4\"]\n",
    "x = workout_2[\"500m\"]\n",
    "ax = plt.axes()\n",
    "ax.plot(y, x)\n",
    "plt.show()"
   ]
  },
  {
   "cell_type": "code",
   "execution_count": 6,
   "metadata": {},
   "outputs": [
    {
     "name": "stdout",
     "output_type": "stream",
     "text": [
      "           name        date time of day workout name time meteres avg spm  \\\n",
      "143  PM5 Memory  05/10/2020       12:47        5000m  NaN     NaN     NaN   \n",
      "144  PM5 Memory  05/10/2020       12:47        5000m  NaN     NaN     NaN   \n",
      "145  PM5 Memory  05/10/2020       12:47        5000m  NaN     NaN     NaN   \n",
      "146  PM5 Memory  05/10/2020       12:47        5000m  NaN     NaN     NaN   \n",
      "147  PM5 Memory  05/10/2020       12:47        5000m  NaN     NaN     NaN   \n",
      "\n",
      "    avg heart rate   time 1 meters 1 spm heart rate     500m cal hour watts  \\\n",
      "143            NaN  03:28.3     1000  29        161  01:44.1     1366   310   \n",
      "144            NaN  03:31.7     2000  27        167  01:45.8     1315   295   \n",
      "145            NaN  03:32.6     3000  27        172  01:46.3     1302   291   \n",
      "146            NaN  03:32.7     4000  27        175  01:46.3     1301   291   \n",
      "147            NaN  03:28.0     5000  27        179  01:44.0     1370   311   \n",
      "\n",
      "    time 2 meters 2 heart rate 1  \n",
      "143    NaN      NaN          NaN  \n",
      "144    NaN      NaN          NaN  \n",
      "145    NaN      NaN          NaN  \n",
      "146    NaN      NaN          NaN  \n",
      "147    NaN      NaN          NaN  \n"
     ]
    }
   ],
   "source": [
    "workout_3 = df[143:148]\n",
    "print(workout_3)"
   ]
  },
  {
   "cell_type": "code",
   "execution_count": 7,
   "metadata": {
    "scrolled": false
   },
   "outputs": [
    {
     "name": "stderr",
     "output_type": "stream",
     "text": [
      "<ipython-input-7-675a220cf49a>:1: SettingWithCopyWarning: \n",
      "A value is trying to be set on a copy of a slice from a DataFrame.\n",
      "Try using .loc[row_indexer,col_indexer] = value instead\n",
      "\n",
      "See the caveats in the documentation: https://pandas.pydata.org/pandas-docs/stable/user_guide/indexing.html#returning-a-view-versus-a-copy\n",
      "  workout_3[\"time 2\"] = \"00:\" + workout_3[\"time 1\"] + \"0\"\n",
      "<ipython-input-7-675a220cf49a>:2: SettingWithCopyWarning: \n",
      "A value is trying to be set on a copy of a slice from a DataFrame.\n",
      "Try using .loc[row_indexer,col_indexer] = value instead\n",
      "\n",
      "See the caveats in the documentation: https://pandas.pydata.org/pandas-docs/stable/user_guide/indexing.html#returning-a-view-versus-a-copy\n",
      "  workout_3[\"time 2\"] = pd.to_timedelta(workout_3[\"time 2\"], unit=\"minutes\")\n",
      "<ipython-input-7-675a220cf49a>:4: SettingWithCopyWarning: \n",
      "A value is trying to be set on a copy of a slice from a DataFrame.\n",
      "Try using .loc[row_indexer,col_indexer] = value instead\n",
      "\n",
      "See the caveats in the documentation: https://pandas.pydata.org/pandas-docs/stable/user_guide/indexing.html#returning-a-view-versus-a-copy\n",
      "  workout_3[\"time 3\"] = workout_3[\"time 2\"].cumsum()\n",
      "<ipython-input-7-675a220cf49a>:5: SettingWithCopyWarning: \n",
      "A value is trying to be set on a copy of a slice from a DataFrame.\n",
      "Try using .loc[row_indexer,col_indexer] = value instead\n",
      "\n",
      "See the caveats in the documentation: https://pandas.pydata.org/pandas-docs/stable/user_guide/indexing.html#returning-a-view-versus-a-copy\n",
      "  workout_3[\"time 4\"] = workout_3[\"time 3\"]/pd.Timedelta(minutes=1)\n",
      "<ipython-input-7-675a220cf49a>:7: SettingWithCopyWarning: \n",
      "A value is trying to be set on a copy of a slice from a DataFrame.\n",
      "Try using .loc[row_indexer,col_indexer] = value instead\n",
      "\n",
      "See the caveats in the documentation: https://pandas.pydata.org/pandas-docs/stable/user_guide/indexing.html#returning-a-view-versus-a-copy\n",
      "  workout_3[\"500m\"] = \"00:\" + workout_3[\"500m\"] + \"0\"\n",
      "<ipython-input-7-675a220cf49a>:8: SettingWithCopyWarning: \n",
      "A value is trying to be set on a copy of a slice from a DataFrame.\n",
      "Try using .loc[row_indexer,col_indexer] = value instead\n",
      "\n",
      "See the caveats in the documentation: https://pandas.pydata.org/pandas-docs/stable/user_guide/indexing.html#returning-a-view-versus-a-copy\n",
      "  workout_3[\"500m\"] = pd.to_timedelta(workout_3[\"500m\"], unit=\"minutes\")\n"
     ]
    },
    {
     "data": {
      "text/plain": [
       "143    0.0\n",
       "144    0.0\n",
       "145    0.0\n",
       "146    0.0\n",
       "147    0.0\n",
       "Name: 500m, dtype: float64"
      ]
     },
     "execution_count": 7,
     "metadata": {},
     "output_type": "execute_result"
    }
   ],
   "source": [
    "workout_3[\"time 2\"] = \"00:\" + workout_3[\"time 1\"] + \"0\"\n",
    "workout_3[\"time 2\"] = pd.to_timedelta(workout_3[\"time 2\"], unit=\"minutes\")\n",
    "workout_3[\"time 2\"].astype(\"timedelta64[h]\")\n",
    "workout_3[\"time 3\"] = workout_3[\"time 2\"].cumsum()\n",
    "workout_3[\"time 4\"] = workout_3[\"time 3\"]/pd.Timedelta(minutes=1)\n",
    "\n",
    "workout_3[\"500m\"] = \"00:\" + workout_3[\"500m\"] + \"0\"\n",
    "workout_3[\"500m\"] = pd.to_timedelta(workout_3[\"500m\"], unit=\"minutes\")\n",
    "workout_3[\"500m\"].astype(\"timedelta64[h]\")\n",
    "#workout_3[\"500m\"] = workout_3[\"500m\"]/pd.Timedelta(minutes=1)\n",
    "\n"
   ]
  },
  {
   "cell_type": "code",
   "execution_count": 8,
   "metadata": {},
   "outputs": [
    {
     "name": "stderr",
     "output_type": "stream",
     "text": [
      "<ipython-input-8-d44caec6b85c>:1: SettingWithCopyWarning: \n",
      "A value is trying to be set on a copy of a slice from a DataFrame.\n",
      "Try using .loc[row_indexer,col_indexer] = value instead\n",
      "\n",
      "See the caveats in the documentation: https://pandas.pydata.org/pandas-docs/stable/user_guide/indexing.html#returning-a-view-versus-a-copy\n",
      "  workout_3[\"500ms\"] = (workout_3[\"500m\"]) - pd.Timedelta(minutes=1)\n"
     ]
    }
   ],
   "source": [
    "\n",
    "workout_3[\"500ms\"] = (workout_3[\"500m\"]) - pd.Timedelta(minutes=1)\n"
   ]
  },
  {
   "cell_type": "code",
   "execution_count": 9,
   "metadata": {},
   "outputs": [
    {
     "data": {
      "text/html": [
       "<div>\n",
       "<style scoped>\n",
       "    .dataframe tbody tr th:only-of-type {\n",
       "        vertical-align: middle;\n",
       "    }\n",
       "\n",
       "    .dataframe tbody tr th {\n",
       "        vertical-align: top;\n",
       "    }\n",
       "\n",
       "    .dataframe thead th {\n",
       "        text-align: right;\n",
       "    }\n",
       "</style>\n",
       "<table border=\"1\" class=\"dataframe\">\n",
       "  <thead>\n",
       "    <tr style=\"text-align: right;\">\n",
       "      <th></th>\n",
       "      <th>name</th>\n",
       "      <th>date</th>\n",
       "      <th>time of day</th>\n",
       "      <th>workout name</th>\n",
       "      <th>time</th>\n",
       "      <th>meteres</th>\n",
       "      <th>avg spm</th>\n",
       "      <th>avg heart rate</th>\n",
       "      <th>time 1</th>\n",
       "      <th>meters 1</th>\n",
       "      <th>...</th>\n",
       "      <th>heart rate</th>\n",
       "      <th>500m</th>\n",
       "      <th>cal hour</th>\n",
       "      <th>watts</th>\n",
       "      <th>time 2</th>\n",
       "      <th>meters 2</th>\n",
       "      <th>heart rate 1</th>\n",
       "      <th>time 3</th>\n",
       "      <th>time 4</th>\n",
       "      <th>500ms</th>\n",
       "    </tr>\n",
       "  </thead>\n",
       "  <tbody>\n",
       "    <tr>\n",
       "      <th>143</th>\n",
       "      <td>PM5 Memory</td>\n",
       "      <td>05/10/2020</td>\n",
       "      <td>12:47</td>\n",
       "      <td>5000m</td>\n",
       "      <td>NaN</td>\n",
       "      <td>NaN</td>\n",
       "      <td>NaN</td>\n",
       "      <td>NaN</td>\n",
       "      <td>03:28.3</td>\n",
       "      <td>1000</td>\n",
       "      <td>...</td>\n",
       "      <td>161</td>\n",
       "      <td>00:01:44.100000</td>\n",
       "      <td>1366</td>\n",
       "      <td>310</td>\n",
       "      <td>00:03:28.300000</td>\n",
       "      <td>NaN</td>\n",
       "      <td>NaN</td>\n",
       "      <td>00:03:28.300000</td>\n",
       "      <td>3.471667</td>\n",
       "      <td>00:00:44.100000</td>\n",
       "    </tr>\n",
       "    <tr>\n",
       "      <th>144</th>\n",
       "      <td>PM5 Memory</td>\n",
       "      <td>05/10/2020</td>\n",
       "      <td>12:47</td>\n",
       "      <td>5000m</td>\n",
       "      <td>NaN</td>\n",
       "      <td>NaN</td>\n",
       "      <td>NaN</td>\n",
       "      <td>NaN</td>\n",
       "      <td>03:31.7</td>\n",
       "      <td>2000</td>\n",
       "      <td>...</td>\n",
       "      <td>167</td>\n",
       "      <td>00:01:45.800000</td>\n",
       "      <td>1315</td>\n",
       "      <td>295</td>\n",
       "      <td>00:03:31.700000</td>\n",
       "      <td>NaN</td>\n",
       "      <td>NaN</td>\n",
       "      <td>00:07:00</td>\n",
       "      <td>7.000000</td>\n",
       "      <td>00:00:45.800000</td>\n",
       "    </tr>\n",
       "    <tr>\n",
       "      <th>145</th>\n",
       "      <td>PM5 Memory</td>\n",
       "      <td>05/10/2020</td>\n",
       "      <td>12:47</td>\n",
       "      <td>5000m</td>\n",
       "      <td>NaN</td>\n",
       "      <td>NaN</td>\n",
       "      <td>NaN</td>\n",
       "      <td>NaN</td>\n",
       "      <td>03:32.6</td>\n",
       "      <td>3000</td>\n",
       "      <td>...</td>\n",
       "      <td>172</td>\n",
       "      <td>00:01:46.300000</td>\n",
       "      <td>1302</td>\n",
       "      <td>291</td>\n",
       "      <td>00:03:32.600000</td>\n",
       "      <td>NaN</td>\n",
       "      <td>NaN</td>\n",
       "      <td>00:10:32.600000</td>\n",
       "      <td>10.543333</td>\n",
       "      <td>00:00:46.300000</td>\n",
       "    </tr>\n",
       "    <tr>\n",
       "      <th>146</th>\n",
       "      <td>PM5 Memory</td>\n",
       "      <td>05/10/2020</td>\n",
       "      <td>12:47</td>\n",
       "      <td>5000m</td>\n",
       "      <td>NaN</td>\n",
       "      <td>NaN</td>\n",
       "      <td>NaN</td>\n",
       "      <td>NaN</td>\n",
       "      <td>03:32.7</td>\n",
       "      <td>4000</td>\n",
       "      <td>...</td>\n",
       "      <td>175</td>\n",
       "      <td>00:01:46.300000</td>\n",
       "      <td>1301</td>\n",
       "      <td>291</td>\n",
       "      <td>00:03:32.700000</td>\n",
       "      <td>NaN</td>\n",
       "      <td>NaN</td>\n",
       "      <td>00:14:05.300000</td>\n",
       "      <td>14.088333</td>\n",
       "      <td>00:00:46.300000</td>\n",
       "    </tr>\n",
       "    <tr>\n",
       "      <th>147</th>\n",
       "      <td>PM5 Memory</td>\n",
       "      <td>05/10/2020</td>\n",
       "      <td>12:47</td>\n",
       "      <td>5000m</td>\n",
       "      <td>NaN</td>\n",
       "      <td>NaN</td>\n",
       "      <td>NaN</td>\n",
       "      <td>NaN</td>\n",
       "      <td>03:28.0</td>\n",
       "      <td>5000</td>\n",
       "      <td>...</td>\n",
       "      <td>179</td>\n",
       "      <td>00:01:44</td>\n",
       "      <td>1370</td>\n",
       "      <td>311</td>\n",
       "      <td>00:03:28</td>\n",
       "      <td>NaN</td>\n",
       "      <td>NaN</td>\n",
       "      <td>00:17:33.300000</td>\n",
       "      <td>17.555000</td>\n",
       "      <td>00:00:44</td>\n",
       "    </tr>\n",
       "  </tbody>\n",
       "</table>\n",
       "<p>5 rows × 21 columns</p>\n",
       "</div>"
      ],
      "text/plain": [
       "           name        date time of day workout name time meteres avg spm  \\\n",
       "143  PM5 Memory  05/10/2020       12:47        5000m  NaN     NaN     NaN   \n",
       "144  PM5 Memory  05/10/2020       12:47        5000m  NaN     NaN     NaN   \n",
       "145  PM5 Memory  05/10/2020       12:47        5000m  NaN     NaN     NaN   \n",
       "146  PM5 Memory  05/10/2020       12:47        5000m  NaN     NaN     NaN   \n",
       "147  PM5 Memory  05/10/2020       12:47        5000m  NaN     NaN     NaN   \n",
       "\n",
       "    avg heart rate   time 1 meters 1  ... heart rate            500m cal hour  \\\n",
       "143            NaN  03:28.3     1000  ...        161 00:01:44.100000     1366   \n",
       "144            NaN  03:31.7     2000  ...        167 00:01:45.800000     1315   \n",
       "145            NaN  03:32.6     3000  ...        172 00:01:46.300000     1302   \n",
       "146            NaN  03:32.7     4000  ...        175 00:01:46.300000     1301   \n",
       "147            NaN  03:28.0     5000  ...        179        00:01:44     1370   \n",
       "\n",
       "    watts          time 2 meters 2 heart rate 1          time 3     time 4  \\\n",
       "143   310 00:03:28.300000      NaN          NaN 00:03:28.300000   3.471667   \n",
       "144   295 00:03:31.700000      NaN          NaN        00:07:00   7.000000   \n",
       "145   291 00:03:32.600000      NaN          NaN 00:10:32.600000  10.543333   \n",
       "146   291 00:03:32.700000      NaN          NaN 00:14:05.300000  14.088333   \n",
       "147   311        00:03:28      NaN          NaN 00:17:33.300000  17.555000   \n",
       "\n",
       "              500ms  \n",
       "143 00:00:44.100000  \n",
       "144 00:00:45.800000  \n",
       "145 00:00:46.300000  \n",
       "146 00:00:46.300000  \n",
       "147        00:00:44  \n",
       "\n",
       "[5 rows x 21 columns]"
      ]
     },
     "execution_count": 9,
     "metadata": {},
     "output_type": "execute_result"
    }
   ],
   "source": [
    "workout_3"
   ]
  },
  {
   "cell_type": "code",
   "execution_count": 27,
   "metadata": {},
   "outputs": [
    {
     "data": {
      "image/png": "[encoded data removed]",
      "text/plain": [
       "<Figure size 432x288 with 1 Axes>"
      ]
     },
     "metadata": {
      "needs_background": "light"
     },
     "output_type": "display_data"
    }
   ],
   "source": [
    "y_1 = workout_3[\"time 4\"]\n",
    "x_2 = workout_3[\"500ms\"]\n",
    "ax = plt.axes()\n",
    "ax.plot(y_1, x_2)\n",
    "ax.set_title(\"5000m Row Spilt against Time\",fontsize=14)\n",
    "ax.set_ylabel(\"Split (minus one minute)\")\n",
    "ax.set_xlabel(\"Time\")\n",
    "plt.show()"
   ]
  },
  {
   "cell_type": "code",
   "execution_count": 33,
   "metadata": {},
   "outputs": [
    {
     "ename": "TypeError",
     "evalue": "can only concatenate str (not \"int\") to str",
     "output_type": "error",
     "traceback": [
      "\u001b[1;31m---------------------------------------------------------------------------\u001b[0m",
      "\u001b[1;31mTypeError\u001b[0m                                 Traceback (most recent call last)",
      "\u001b[1;32m~\\anaconda4\\lib\\site-packages\\pandas\\core\\ops\\array_ops.py\u001b[0m in \u001b[0;36mna_arithmetic_op\u001b[1;34m(left, right, op, str_rep)\u001b[0m\n\u001b[0;32m    148\u001b[0m     \u001b[1;32mtry\u001b[0m\u001b[1;33m:\u001b[0m\u001b[1;33m\u001b[0m\u001b[1;33m\u001b[0m\u001b[0m\n\u001b[1;32m--> 149\u001b[1;33m         \u001b[0mresult\u001b[0m \u001b[1;33m=\u001b[0m \u001b[0mexpressions\u001b[0m\u001b[1;33m.\u001b[0m\u001b[0mevaluate\u001b[0m\u001b[1;33m(\u001b[0m\u001b[0mop\u001b[0m\u001b[1;33m,\u001b[0m \u001b[0mstr_rep\u001b[0m\u001b[1;33m,\u001b[0m \u001b[0mleft\u001b[0m\u001b[1;33m,\u001b[0m \u001b[0mright\u001b[0m\u001b[1;33m)\u001b[0m\u001b[1;33m\u001b[0m\u001b[1;33m\u001b[0m\u001b[0m\n\u001b[0m\u001b[0;32m    150\u001b[0m     \u001b[1;32mexcept\u001b[0m \u001b[0mTypeError\u001b[0m\u001b[1;33m:\u001b[0m\u001b[1;33m\u001b[0m\u001b[1;33m\u001b[0m\u001b[0m\n",
      "\u001b[1;32m~\\anaconda4\\lib\\site-packages\\pandas\\core\\computation\\expressions.py\u001b[0m in \u001b[0;36mevaluate\u001b[1;34m(op, op_str, a, b, use_numexpr)\u001b[0m\n\u001b[0;32m    207\u001b[0m     \u001b[1;32mif\u001b[0m \u001b[0muse_numexpr\u001b[0m\u001b[1;33m:\u001b[0m\u001b[1;33m\u001b[0m\u001b[1;33m\u001b[0m\u001b[0m\n\u001b[1;32m--> 208\u001b[1;33m         \u001b[1;32mreturn\u001b[0m \u001b[0m_evaluate\u001b[0m\u001b[1;33m(\u001b[0m\u001b[0mop\u001b[0m\u001b[1;33m,\u001b[0m \u001b[0mop_str\u001b[0m\u001b[1;33m,\u001b[0m \u001b[0ma\u001b[0m\u001b[1;33m,\u001b[0m \u001b[0mb\u001b[0m\u001b[1;33m)\u001b[0m\u001b[1;33m\u001b[0m\u001b[1;33m\u001b[0m\u001b[0m\n\u001b[0m\u001b[0;32m    209\u001b[0m     \u001b[1;32mreturn\u001b[0m \u001b[0m_evaluate_standard\u001b[0m\u001b[1;33m(\u001b[0m\u001b[0mop\u001b[0m\u001b[1;33m,\u001b[0m \u001b[0mop_str\u001b[0m\u001b[1;33m,\u001b[0m \u001b[0ma\u001b[0m\u001b[1;33m,\u001b[0m \u001b[0mb\u001b[0m\u001b[1;33m)\u001b[0m\u001b[1;33m\u001b[0m\u001b[1;33m\u001b[0m\u001b[0m\n",
      "\u001b[1;32m~\\anaconda4\\lib\\site-packages\\pandas\\core\\computation\\expressions.py\u001b[0m in \u001b[0;36m_evaluate_numexpr\u001b[1;34m(op, op_str, a, b)\u001b[0m\n\u001b[0;32m    120\u001b[0m     \u001b[1;32mif\u001b[0m \u001b[0mresult\u001b[0m \u001b[1;32mis\u001b[0m \u001b[1;32mNone\u001b[0m\u001b[1;33m:\u001b[0m\u001b[1;33m\u001b[0m\u001b[1;33m\u001b[0m\u001b[0m\n\u001b[1;32m--> 121\u001b[1;33m         \u001b[0mresult\u001b[0m \u001b[1;33m=\u001b[0m \u001b[0m_evaluate_standard\u001b[0m\u001b[1;33m(\u001b[0m\u001b[0mop\u001b[0m\u001b[1;33m,\u001b[0m \u001b[0mop_str\u001b[0m\u001b[1;33m,\u001b[0m \u001b[0ma\u001b[0m\u001b[1;33m,\u001b[0m \u001b[0mb\u001b[0m\u001b[1;33m)\u001b[0m\u001b[1;33m\u001b[0m\u001b[1;33m\u001b[0m\u001b[0m\n\u001b[0m\u001b[0;32m    122\u001b[0m \u001b[1;33m\u001b[0m\u001b[0m\n",
      "\u001b[1;32m~\\anaconda4\\lib\\site-packages\\pandas\\core\\computation\\expressions.py\u001b[0m in \u001b[0;36m_evaluate_standard\u001b[1;34m(op, op_str, a, b)\u001b[0m\n\u001b[0;32m     69\u001b[0m     \u001b[1;32mwith\u001b[0m \u001b[0mnp\u001b[0m\u001b[1;33m.\u001b[0m\u001b[0merrstate\u001b[0m\u001b[1;33m(\u001b[0m\u001b[0mall\u001b[0m\u001b[1;33m=\u001b[0m\u001b[1;34m\"ignore\"\u001b[0m\u001b[1;33m)\u001b[0m\u001b[1;33m:\u001b[0m\u001b[1;33m\u001b[0m\u001b[1;33m\u001b[0m\u001b[0m\n\u001b[1;32m---> 70\u001b[1;33m         \u001b[1;32mreturn\u001b[0m \u001b[0mop\u001b[0m\u001b[1;33m(\u001b[0m\u001b[0ma\u001b[0m\u001b[1;33m,\u001b[0m \u001b[0mb\u001b[0m\u001b[1;33m)\u001b[0m\u001b[1;33m\u001b[0m\u001b[1;33m\u001b[0m\u001b[0m\n\u001b[0m\u001b[0;32m     71\u001b[0m \u001b[1;33m\u001b[0m\u001b[0m\n",
      "\u001b[1;31mTypeError\u001b[0m: can only concatenate str (not \"int\") to str",
      "\nDuring handling of the above exception, another exception occurred:\n",
      "\u001b[1;31mTypeError\u001b[0m                                 Traceback (most recent call last)",
      "\u001b[1;32m<ipython-input-33-83f990c5736d>\u001b[0m in \u001b[0;36m<module>\u001b[1;34m\u001b[0m\n\u001b[0;32m      1\u001b[0m \u001b[0mx_3\u001b[0m \u001b[1;33m=\u001b[0m \u001b[0mworkout_3\u001b[0m\u001b[1;33m[\u001b[0m\u001b[1;34m\"heart rate\"\u001b[0m\u001b[1;33m]\u001b[0m\u001b[1;33m\u001b[0m\u001b[1;33m\u001b[0m\u001b[0m\n\u001b[0;32m      2\u001b[0m \u001b[0max\u001b[0m \u001b[1;33m=\u001b[0m \u001b[0mplt\u001b[0m\u001b[1;33m.\u001b[0m\u001b[0maxes\u001b[0m\u001b[1;33m(\u001b[0m\u001b[1;33m)\u001b[0m\u001b[1;33m\u001b[0m\u001b[1;33m\u001b[0m\u001b[0m\n\u001b[1;32m----> 3\u001b[1;33m \u001b[0max\u001b[0m\u001b[1;33m.\u001b[0m\u001b[0mfill_between\u001b[0m\u001b[1;33m(\u001b[0m\u001b[0my_1\u001b[0m\u001b[1;33m,\u001b[0m \u001b[0mx_3\u001b[0m\u001b[1;33m+\u001b[0m\u001b[1;36m3\u001b[0m\u001b[1;33m)\u001b[0m\u001b[1;33m\u001b[0m\u001b[1;33m\u001b[0m\u001b[0m\n\u001b[0m\u001b[0;32m      4\u001b[0m \u001b[0max\u001b[0m\u001b[1;33m.\u001b[0m\u001b[0mset_title\u001b[0m\u001b[1;33m(\u001b[0m\u001b[1;34m\"Heart Rate against Time\"\u001b[0m\u001b[1;33m,\u001b[0m\u001b[0mfontsize\u001b[0m\u001b[1;33m=\u001b[0m\u001b[1;36m14\u001b[0m\u001b[1;33m)\u001b[0m\u001b[1;33m\u001b[0m\u001b[1;33m\u001b[0m\u001b[0m\n\u001b[0;32m      5\u001b[0m \u001b[0max\u001b[0m\u001b[1;33m.\u001b[0m\u001b[0mset_ylabel\u001b[0m\u001b[1;33m(\u001b[0m\u001b[1;34m\"Heart Rate\"\u001b[0m\u001b[1;33m)\u001b[0m\u001b[1;33m\u001b[0m\u001b[1;33m\u001b[0m\u001b[0m\n",
      "\u001b[1;32m~\\anaconda4\\lib\\site-packages\\pandas\\core\\ops\\common.py\u001b[0m in \u001b[0;36mnew_method\u001b[1;34m(self, other)\u001b[0m\n\u001b[0;32m     62\u001b[0m         \u001b[0mother\u001b[0m \u001b[1;33m=\u001b[0m \u001b[0mitem_from_zerodim\u001b[0m\u001b[1;33m(\u001b[0m\u001b[0mother\u001b[0m\u001b[1;33m)\u001b[0m\u001b[1;33m\u001b[0m\u001b[1;33m\u001b[0m\u001b[0m\n\u001b[0;32m     63\u001b[0m \u001b[1;33m\u001b[0m\u001b[0m\n\u001b[1;32m---> 64\u001b[1;33m         \u001b[1;32mreturn\u001b[0m \u001b[0mmethod\u001b[0m\u001b[1;33m(\u001b[0m\u001b[0mself\u001b[0m\u001b[1;33m,\u001b[0m \u001b[0mother\u001b[0m\u001b[1;33m)\u001b[0m\u001b[1;33m\u001b[0m\u001b[1;33m\u001b[0m\u001b[0m\n\u001b[0m\u001b[0;32m     65\u001b[0m \u001b[1;33m\u001b[0m\u001b[0m\n\u001b[0;32m     66\u001b[0m     \u001b[1;32mreturn\u001b[0m \u001b[0mnew_method\u001b[0m\u001b[1;33m\u001b[0m\u001b[1;33m\u001b[0m\u001b[0m\n",
      "\u001b[1;32m~\\anaconda4\\lib\\site-packages\\pandas\\core\\ops\\__init__.py\u001b[0m in \u001b[0;36mwrapper\u001b[1;34m(left, right)\u001b[0m\n\u001b[0;32m    501\u001b[0m         \u001b[0mlvalues\u001b[0m \u001b[1;33m=\u001b[0m \u001b[0mextract_array\u001b[0m\u001b[1;33m(\u001b[0m\u001b[0mleft\u001b[0m\u001b[1;33m,\u001b[0m \u001b[0mextract_numpy\u001b[0m\u001b[1;33m=\u001b[0m\u001b[1;32mTrue\u001b[0m\u001b[1;33m)\u001b[0m\u001b[1;33m\u001b[0m\u001b[1;33m\u001b[0m\u001b[0m\n\u001b[0;32m    502\u001b[0m         \u001b[0mrvalues\u001b[0m \u001b[1;33m=\u001b[0m \u001b[0mextract_array\u001b[0m\u001b[1;33m(\u001b[0m\u001b[0mright\u001b[0m\u001b[1;33m,\u001b[0m \u001b[0mextract_numpy\u001b[0m\u001b[1;33m=\u001b[0m\u001b[1;32mTrue\u001b[0m\u001b[1;33m)\u001b[0m\u001b[1;33m\u001b[0m\u001b[1;33m\u001b[0m\u001b[0m\n\u001b[1;32m--> 503\u001b[1;33m         \u001b[0mresult\u001b[0m \u001b[1;33m=\u001b[0m \u001b[0marithmetic_op\u001b[0m\u001b[1;33m(\u001b[0m\u001b[0mlvalues\u001b[0m\u001b[1;33m,\u001b[0m \u001b[0mrvalues\u001b[0m\u001b[1;33m,\u001b[0m \u001b[0mop\u001b[0m\u001b[1;33m,\u001b[0m \u001b[0mstr_rep\u001b[0m\u001b[1;33m)\u001b[0m\u001b[1;33m\u001b[0m\u001b[1;33m\u001b[0m\u001b[0m\n\u001b[0m\u001b[0;32m    504\u001b[0m \u001b[1;33m\u001b[0m\u001b[0m\n\u001b[0;32m    505\u001b[0m         \u001b[1;32mreturn\u001b[0m \u001b[0m_construct_result\u001b[0m\u001b[1;33m(\u001b[0m\u001b[0mleft\u001b[0m\u001b[1;33m,\u001b[0m \u001b[0mresult\u001b[0m\u001b[1;33m,\u001b[0m \u001b[0mindex\u001b[0m\u001b[1;33m=\u001b[0m\u001b[0mleft\u001b[0m\u001b[1;33m.\u001b[0m\u001b[0mindex\u001b[0m\u001b[1;33m,\u001b[0m \u001b[0mname\u001b[0m\u001b[1;33m=\u001b[0m\u001b[0mres_name\u001b[0m\u001b[1;33m)\u001b[0m\u001b[1;33m\u001b[0m\u001b[1;33m\u001b[0m\u001b[0m\n",
      "\u001b[1;32m~\\anaconda4\\lib\\site-packages\\pandas\\core\\ops\\array_ops.py\u001b[0m in \u001b[0;36marithmetic_op\u001b[1;34m(left, right, op, str_rep)\u001b[0m\n\u001b[0;32m    195\u001b[0m     \u001b[1;32melse\u001b[0m\u001b[1;33m:\u001b[0m\u001b[1;33m\u001b[0m\u001b[1;33m\u001b[0m\u001b[0m\n\u001b[0;32m    196\u001b[0m         \u001b[1;32mwith\u001b[0m \u001b[0mnp\u001b[0m\u001b[1;33m.\u001b[0m\u001b[0merrstate\u001b[0m\u001b[1;33m(\u001b[0m\u001b[0mall\u001b[0m\u001b[1;33m=\u001b[0m\u001b[1;34m\"ignore\"\u001b[0m\u001b[1;33m)\u001b[0m\u001b[1;33m:\u001b[0m\u001b[1;33m\u001b[0m\u001b[1;33m\u001b[0m\u001b[0m\n\u001b[1;32m--> 197\u001b[1;33m             \u001b[0mres_values\u001b[0m \u001b[1;33m=\u001b[0m \u001b[0mna_arithmetic_op\u001b[0m\u001b[1;33m(\u001b[0m\u001b[0mlvalues\u001b[0m\u001b[1;33m,\u001b[0m \u001b[0mrvalues\u001b[0m\u001b[1;33m,\u001b[0m \u001b[0mop\u001b[0m\u001b[1;33m,\u001b[0m \u001b[0mstr_rep\u001b[0m\u001b[1;33m)\u001b[0m\u001b[1;33m\u001b[0m\u001b[1;33m\u001b[0m\u001b[0m\n\u001b[0m\u001b[0;32m    198\u001b[0m \u001b[1;33m\u001b[0m\u001b[0m\n\u001b[0;32m    199\u001b[0m     \u001b[1;32mreturn\u001b[0m \u001b[0mres_values\u001b[0m\u001b[1;33m\u001b[0m\u001b[1;33m\u001b[0m\u001b[0m\n",
      "\u001b[1;32m~\\anaconda4\\lib\\site-packages\\pandas\\core\\ops\\array_ops.py\u001b[0m in \u001b[0;36mna_arithmetic_op\u001b[1;34m(left, right, op, str_rep)\u001b[0m\n\u001b[0;32m    149\u001b[0m         \u001b[0mresult\u001b[0m \u001b[1;33m=\u001b[0m \u001b[0mexpressions\u001b[0m\u001b[1;33m.\u001b[0m\u001b[0mevaluate\u001b[0m\u001b[1;33m(\u001b[0m\u001b[0mop\u001b[0m\u001b[1;33m,\u001b[0m \u001b[0mstr_rep\u001b[0m\u001b[1;33m,\u001b[0m \u001b[0mleft\u001b[0m\u001b[1;33m,\u001b[0m \u001b[0mright\u001b[0m\u001b[1;33m)\u001b[0m\u001b[1;33m\u001b[0m\u001b[1;33m\u001b[0m\u001b[0m\n\u001b[0;32m    150\u001b[0m     \u001b[1;32mexcept\u001b[0m \u001b[0mTypeError\u001b[0m\u001b[1;33m:\u001b[0m\u001b[1;33m\u001b[0m\u001b[1;33m\u001b[0m\u001b[0m\n\u001b[1;32m--> 151\u001b[1;33m         \u001b[0mresult\u001b[0m \u001b[1;33m=\u001b[0m \u001b[0mmasked_arith_op\u001b[0m\u001b[1;33m(\u001b[0m\u001b[0mleft\u001b[0m\u001b[1;33m,\u001b[0m \u001b[0mright\u001b[0m\u001b[1;33m,\u001b[0m \u001b[0mop\u001b[0m\u001b[1;33m)\u001b[0m\u001b[1;33m\u001b[0m\u001b[1;33m\u001b[0m\u001b[0m\n\u001b[0m\u001b[0;32m    152\u001b[0m \u001b[1;33m\u001b[0m\u001b[0m\n\u001b[0;32m    153\u001b[0m     \u001b[1;32mreturn\u001b[0m \u001b[0mmissing\u001b[0m\u001b[1;33m.\u001b[0m\u001b[0mdispatch_fill_zeros\u001b[0m\u001b[1;33m(\u001b[0m\u001b[0mop\u001b[0m\u001b[1;33m,\u001b[0m \u001b[0mleft\u001b[0m\u001b[1;33m,\u001b[0m \u001b[0mright\u001b[0m\u001b[1;33m,\u001b[0m \u001b[0mresult\u001b[0m\u001b[1;33m)\u001b[0m\u001b[1;33m\u001b[0m\u001b[1;33m\u001b[0m\u001b[0m\n",
      "\u001b[1;32m~\\anaconda4\\lib\\site-packages\\pandas\\core\\ops\\array_ops.py\u001b[0m in \u001b[0;36mmasked_arith_op\u001b[1;34m(x, y, op)\u001b[0m\n\u001b[0;32m    110\u001b[0m         \u001b[1;32mif\u001b[0m \u001b[0mmask\u001b[0m\u001b[1;33m.\u001b[0m\u001b[0many\u001b[0m\u001b[1;33m(\u001b[0m\u001b[1;33m)\u001b[0m\u001b[1;33m:\u001b[0m\u001b[1;33m\u001b[0m\u001b[1;33m\u001b[0m\u001b[0m\n\u001b[0;32m    111\u001b[0m             \u001b[1;32mwith\u001b[0m \u001b[0mnp\u001b[0m\u001b[1;33m.\u001b[0m\u001b[0merrstate\u001b[0m\u001b[1;33m(\u001b[0m\u001b[0mall\u001b[0m\u001b[1;33m=\u001b[0m\u001b[1;34m\"ignore\"\u001b[0m\u001b[1;33m)\u001b[0m\u001b[1;33m:\u001b[0m\u001b[1;33m\u001b[0m\u001b[1;33m\u001b[0m\u001b[0m\n\u001b[1;32m--> 112\u001b[1;33m                 \u001b[0mresult\u001b[0m\u001b[1;33m[\u001b[0m\u001b[0mmask\u001b[0m\u001b[1;33m]\u001b[0m \u001b[1;33m=\u001b[0m \u001b[0mop\u001b[0m\u001b[1;33m(\u001b[0m\u001b[0mxrav\u001b[0m\u001b[1;33m[\u001b[0m\u001b[0mmask\u001b[0m\u001b[1;33m]\u001b[0m\u001b[1;33m,\u001b[0m \u001b[0my\u001b[0m\u001b[1;33m)\u001b[0m\u001b[1;33m\u001b[0m\u001b[1;33m\u001b[0m\u001b[0m\n\u001b[0m\u001b[0;32m    113\u001b[0m \u001b[1;33m\u001b[0m\u001b[0m\n\u001b[0;32m    114\u001b[0m     \u001b[0mresult\u001b[0m\u001b[1;33m,\u001b[0m \u001b[0m_\u001b[0m \u001b[1;33m=\u001b[0m \u001b[0mmaybe_upcast_putmask\u001b[0m\u001b[1;33m(\u001b[0m\u001b[0mresult\u001b[0m\u001b[1;33m,\u001b[0m \u001b[1;33m~\u001b[0m\u001b[0mmask\u001b[0m\u001b[1;33m,\u001b[0m \u001b[0mnp\u001b[0m\u001b[1;33m.\u001b[0m\u001b[0mnan\u001b[0m\u001b[1;33m)\u001b[0m\u001b[1;33m\u001b[0m\u001b[1;33m\u001b[0m\u001b[0m\n",
      "\u001b[1;31mTypeError\u001b[0m: can only concatenate str (not \"int\") to str"
     ]
    },
    {
     "data": {
      "image/png": "[encoded data removed]",
      "text/plain": [
       "<Figure size 432x288 with 1 Axes>"
      ]
     },
     "metadata": {
      "needs_background": "light"
     },
     "output_type": "display_data"
    }
   ],
   "source": [
    "x_3 = workout_3[\"heart rate\"]\n",
    "ax = plt.axes()\n",
    "ax.fill_between(y_1, x_3)\n",
    "ax.set_title(\"Heart Rate against Time\",fontsize=14)\n",
    "ax.set_ylabel(\"Heart Rate\")\n",
    "ax.set_xlabel(\"Time\")\n",
    "plt.show()"
   ]
  }
 ],
 "metadata": {
  "kernelspec": {
   "display_name": "Python 3",
   "language": "python",
   "name": "python3"
  },
  "language_info": {
   "codemirror_mode": {
    "name": "ipython",
    "version": 3
   },
   "file_extension": ".py",
   "mimetype": "text/x-python",
   "name": "python",
   "nbconvert_exporter": "python",
   "pygments_lexer": "ipython3",
   "version": "3.8.3"
  }
 },
 "nbformat": 4,
 "nbformat_minor": 4
}
